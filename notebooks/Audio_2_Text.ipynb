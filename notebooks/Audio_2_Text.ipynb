{
  "cells": [
    {
      "cell_type": "code",
      "execution_count": null,
      "metadata": {
        "colab": {
          "base_uri": "https://localhost:8080/"
        },
        "id": "tTB_c8vJdotd",
        "outputId": "dafab89e-0773-4340-8f54-a948ce08026f"
      },
      "outputs": [
        {
          "name": "stdout",
          "output_type": "stream",
          "text": [
            "Collecting q\n",
            "  Downloading q-2.7-py2.py3-none-any.whl.metadata (811 bytes)\n",
            "Collecting assemblyai\n",
            "  Downloading assemblyai-0.37.0-py3-none-any.whl.metadata (29 kB)\n",
            "Requirement already satisfied: httpx>=0.19.0 in /usr/local/lib/python3.11/dist-packages (from assemblyai) (0.28.1)\n",
            "Requirement already satisfied: pydantic>=1.10.17 in /usr/local/lib/python3.11/dist-packages (from assemblyai) (2.10.6)\n",
            "Requirement already satisfied: typing-extensions>=3.7 in /usr/local/lib/python3.11/dist-packages (from assemblyai) (4.12.2)\n",
            "Requirement already satisfied: websockets>=11.0 in /usr/local/lib/python3.11/dist-packages (from assemblyai) (14.2)\n",
            "Requirement already satisfied: anyio in /usr/local/lib/python3.11/dist-packages (from httpx>=0.19.0->assemblyai) (3.7.1)\n",
            "Requirement already satisfied: certifi in /usr/local/lib/python3.11/dist-packages (from httpx>=0.19.0->assemblyai) (2025.1.31)\n",
            "Requirement already satisfied: httpcore==1.* in /usr/local/lib/python3.11/dist-packages (from httpx>=0.19.0->assemblyai) (1.0.7)\n",
            "Requirement already satisfied: idna in /usr/local/lib/python3.11/dist-packages (from httpx>=0.19.0->assemblyai) (3.10)\n",
            "Requirement already satisfied: h11<0.15,>=0.13 in /usr/local/lib/python3.11/dist-packages (from httpcore==1.*->httpx>=0.19.0->assemblyai) (0.14.0)\n",
            "Requirement already satisfied: annotated-types>=0.6.0 in /usr/local/lib/python3.11/dist-packages (from pydantic>=1.10.17->assemblyai) (0.7.0)\n",
            "Requirement already satisfied: pydantic-core==2.27.2 in /usr/local/lib/python3.11/dist-packages (from pydantic>=1.10.17->assemblyai) (2.27.2)\n",
            "Requirement already satisfied: sniffio>=1.1 in /usr/local/lib/python3.11/dist-packages (from anyio->httpx>=0.19.0->assemblyai) (1.3.1)\n",
            "Downloading q-2.7-py2.py3-none-any.whl (10 kB)\n",
            "Downloading assemblyai-0.37.0-py3-none-any.whl (44 kB)\n",
            "\u001b[2K   \u001b[90m━━━━━━━━━━━━━━━━━━━━━━━━━━━━━━━━━━━━━━━━\u001b[0m \u001b[32m44.2/44.2 kB\u001b[0m \u001b[31m2.6 MB/s\u001b[0m eta \u001b[36m0:00:00\u001b[0m\n",
            "\u001b[?25hInstalling collected packages: q, assemblyai\n",
            "Successfully installed assemblyai-0.37.0 q-2.7\n"
          ]
        }
      ],
      "source": [
        "!pip install q assemblyai"
      ]
    },
    {
      "cell_type": "code",
      "execution_count": null,
      "metadata": {
        "colab": {
          "base_uri": "https://localhost:8080/"
        },
        "id": "KYhhWjbMdxnu",
        "outputId": "985c4c14-49ee-41b8-da1e-8ddc95734c8e"
      },
      "outputs": [
        {
          "name": "stdout",
          "output_type": "stream",
          "text": [
            "Enter your API key: ··········\n",
            "Api Key added.\n"
          ]
        }
      ],
      "source": [
        "import getpass\n",
        "import assemblyai as aai\n",
        "try:\n",
        "  aai.api_key = getpass.getpass(prompt=\"Enter your API key: \")\n",
        "  print(\"Api Key added.\")\n",
        "except Exception as e:\n",
        "  print(e)"
      ]
    },
    {
      "cell_type": "code",
      "execution_count": null,
      "metadata": {
        "id": "bcxc4asXeym6"
      },
      "outputs": [],
      "source": [
        "import assemblyai as aai\n",
        "\n",
        "aai.settings.api_key = \"YOUR_ASSEMBLY_AI_API\""
      ]
    },
    {
      "cell_type": "code",
      "execution_count": null,
      "metadata": {
        "id": "XeZcccZQeHWn"
      },
      "outputs": [],
      "source": [
        "def transcribe_audio(audio_file):\n",
        "    config = aai.TranscriptionConfig(language_code=\"en\")\n",
        "    transcriber = aai.Transcriber(config=config)\n",
        "    transcript = transcriber.transcribe(audio_file)\n",
        "\n",
        "    print(transcript.text)"
      ]
    },
    {
      "cell_type": "code",
      "execution_count": null,
      "metadata": {
        "colab": {
          "base_uri": "https://localhost:8080/"
        },
        "id": "bIGqA-UweLtM",
        "outputId": "7536a4a0-22e1-4f12-cc06-841636e9db69"
      },
      "outputs": [
        {
          "name": "stdout",
          "output_type": "stream",
          "text": [
            "How many people are there in your family? There are five people in my family. My father, mother, brother, sister and me. Does your family live in a house or an apartment? We live in a house in the countryside. What does your father do? My father is a doctor. He works at the local hospital. How old is your mother? She is 40 years old. One year younger than my father. Do you have any siblings? What's his or her name? Yes, I do. I have one elder brother, David, and one younger sister, Mary. Are you the oldest among your brothers and sisters? No, I'm not. I'm the second child in my family. What is your mother, father like? My father likes playing football and my mother likes cooking. Do your parents let you stay out late? Of course not. They always ask me to get home before 10pm each night. Do you stay with your parents right now? No, but I used to. Does your family usually have dinner together? Yes, we do. My mom always prepares delicious meals for us.\n"
          ]
        }
      ],
      "source": [
        "AUDIO_FILE_PATH = r'/content/QA-01.mp3'\n",
        "transcribe_audio(AUDIO_FILE_PATH)"
      ]
    },
    {
      "cell_type": "code",
      "execution_count": null,
      "metadata": {
        "colab": {
          "base_uri": "https://localhost:8080/"
        },
        "id": "TofDDMS8eoAd",
        "outputId": "c3a28674-5e04-422f-c4b3-10a6777ddefd"
      },
      "outputs": [
        {
          "name": "stdout",
          "output_type": "stream",
          "text": [
            "\u001b[2K   \u001b[90m━━━━━━━━━━━━━━━━━━━━━━━━━━━━━━━━━━━━━━━━\u001b[0m \u001b[32m32.9/32.9 MB\u001b[0m \u001b[31m33.5 MB/s\u001b[0m eta \u001b[36m0:00:00\u001b[0m\n",
            "\u001b[?25h"
          ]
        }
      ],
      "source": [
        "!pip install -q SpeechRecognition pydub"
      ]
    },
    {
      "cell_type": "code",
      "execution_count": null,
      "metadata": {
        "colab": {
          "base_uri": "https://localhost:8080/"
        },
        "id": "y2Q4IMyyhKg8",
        "outputId": "808ce760-fb58-4396-9f66-4be4c2d8ebb2"
      },
      "outputs": [
        {
          "name": "stdout",
          "output_type": "stream",
          "text": [
            "Error: \n",
            "Error: \n",
            "how many people are there in your family there are five people in my family my father mother  sister and me does your family live in a house or an apartment we live in a house in the countryside what does your father do my father is a doctor he works at the local hospital how old is your mother she is 40 years old  do you have any siblings what's his or her name yes I do I have one elder brother David and one younger sister Mary are you the oldest among your brothers and sisters no I'm not I'm the second child in my family what does your mother father like my father likes playing football and my mother likes cooking do your parents let you stay out late of course not they always ask me to get home before 10:00 p.m. each night do you stay with your parents right now no but I used to does your family usually have dinner together yes we do my mom always prepares delicious meals for us \n"
          ]
        }
      ],
      "source": [
        "import speech_recognition as sr\n",
        "from pydub import AudioSegment\n",
        "from pydub.silence import split_on_silence\n",
        "\n",
        "def audio_to_text(audio_file):\n",
        "    r = sr.Recognizer()\n",
        "\n",
        "    try:\n",
        "        sound = AudioSegment.from_wav(audio_file)\n",
        "    except:\n",
        "        try:\n",
        "            sound = AudioSegment.from_mp3(audio_file)\n",
        "        except:\n",
        "            print(\"Error: unsupported file type\")\n",
        "            return \"\"\n",
        "\n",
        "    chunks = split_on_silence(sound, min_silence_len=500, silence_thresh=sound.dBFS-14, keep_silence=500)\n",
        "    whole_text = \"\"\n",
        "    for i, audio_chunk in enumerate(chunks, start=1):\n",
        "        chunk_filename = \"temp_chunk.wav\"\n",
        "        audio_chunk.export(chunk_filename, format=\"wav\")\n",
        "\n",
        "        with sr.AudioFile(chunk_filename) as source:\n",
        "            audio_listened = r.record(source)\n",
        "            try:\n",
        "                text = r.recognize_google(audio_listened)\n",
        "            except sr.UnknownValueError as e:\n",
        "                print(\"Error:\", str(e))\n",
        "                text = \"\"\n",
        "            except sr.RequestError as e:\n",
        "                print(\"Error:\", str(e))\n",
        "                text = \"\"\n",
        "            whole_text += text + \" \"\n",
        "    return whole_text\n",
        "\n",
        "audio_file_path = \"your_audio_file.wav\" #or .mp3\n",
        "text = audio_to_text(AUDIO_FILE_PATH)\n",
        "print(text)"
      ]
    },
    {
      "cell_type": "code",
      "execution_count": null,
      "metadata": {
        "id": "op3RV8PbhWUH"
      },
      "outputs": [],
      "source": []
    }
  ],
  "metadata": {
    "colab": {
      "provenance": []
    },
    "kernelspec": {
      "display_name": "Python 3",
      "name": "python3"
    },
    "language_info": {
      "name": "python"
    }
  },
  "nbformat": 4,
  "nbformat_minor": 0
}
